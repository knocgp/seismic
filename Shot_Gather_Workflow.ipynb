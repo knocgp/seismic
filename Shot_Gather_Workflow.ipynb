{
 "cells": [
  {
   "cell_type": "markdown",
   "metadata": {
    "id": "header"
   },
   "source": [
    "# 🎯 Shot Gather 생성 및 노이즈 제거 워크플로우\n",
    "# Shot Gather Generation & Denoising Workflow\n",
    "\n",
    "[![Open In Colab](https://colab.research.google.com/assets/colab-badge.svg)](https://colab.research.google.com/github/knocgp/seismic/blob/main/Shot_Gather_Workflow.ipynb)\n",
    "\n",
    "---\n",
    "\n",
    "## 📋 워크플로우\n",
    "\n",
    "1. ✅ **랜덤 합성 모델 생성** - 완전 랜덤 지층 모델\n",
    "2. ✅ **Shot Gather 생성** - 다중 트레이스 탄성파 데이터\n",
    "3. ✅ **노이즈 추가** - 실제 현장 노이즈 시뮬레이션\n",
    "4. ✅ **노이즈 제거** - F-K 필터, 밴드패스, Median 필터\n",
    "5. ✅ **비교 및 다운로드** - 전체 비교 및 NPZ 파일 다운로드\n",
    "\n",
    "---\n",
    "\n",
    "## 🚀 사용법\n",
    "\n",
    "**\"런타임\" > \"모두 실행\"** 클릭 → 자동으로 전체 워크플로우 실행!"
   ]
  },
  {
   "cell_type": "markdown",
   "metadata": {
    "id": "install"
   },
   "source": [
    "## 📦 1. 패키지 설치"
   ]
  },
  {
   "cell_type": "code",
   "execution_count": null,
   "metadata": {
    "id": "setup"
   },
   "outputs": [],
   "source": [
    "!pip install -q numpy scipy matplotlib\n",
    "\n",
    "import numpy as np\n",
    "import matplotlib.pyplot as plt\n",
    "from scipy import signal\n",
    "from scipy.ndimage import median_filter\n",
    "import warnings\n",
    "warnings.filterwarnings('ignore')\n",
    "\n",
    "print(\"✅ 패키지 설치 완료!\")"
   ]
  },
  {
   "cell_type": "markdown",
   "metadata": {
    "id": "download_code"
   },
   "source": [
    "## 📥 2. GitHub 코드 다운로드 (Option 1)"
   ]
  },
  {
   "cell_type": "code",
   "execution_count": null,
   "metadata": {
    "id": "clone"
   },
   "outputs": [],
   "source": [
    "# GitHub에서 코드 다운로드\n",
    "!git clone https://github.com/knocgp/seismic.git\n",
    "%cd seismic\n",
    "\n",
    "print(\"✅ 코드 다운로드 완료!\")"
   ]
  },
  {
   "cell_type": "markdown",
   "metadata": {
    "id": "run_workflow"
   },
   "source": [
    "## 🎬 3. 전체 워크플로우 실행"
   ]
  },
  {
   "cell_type": "code",
   "execution_count": null,
   "metadata": {
    "id": "execute"
   },
   "outputs": [],
   "source": [
    "# 전체 워크플로우 실행\n",
    "!python shot_gather_workflow.py"
   ]
  },
  {
   "cell_type": "markdown",
   "metadata": {
    "id": "download_files"
   },
   "source": [
    "## 💾 4. 결과 파일 다운로드"
   ]
  },
  {
   "cell_type": "code",
   "execution_count": null,
   "metadata": {
    "id": "download"
   },
   "outputs": [],
   "source": [
    "from google.colab import files\n",
    "\n",
    "# 생성된 파일 목록 확인\n",
    "print(\"📂 생성된 파일:\")\n",
    "!ls -lh shot_gather_*.npz\n",
    "\n",
    "print(\"\\n다운로드 시작...\")\n",
    "\n",
    "# 1. 원본 Shot Gather\n",
    "files.download('shot_gather_clean.npz')\n",
    "print(\"✓ shot_gather_clean.npz 다운로드 완료\")\n",
    "\n",
    "# 2. 노이즈 추가된 Shot Gather\n",
    "files.download('shot_gather_noisy.npz')\n",
    "print(\"✓ shot_gather_noisy.npz 다운로드 완료\")\n",
    "\n",
    "# 3. 노이즈 제거된 Shot Gather\n",
    "files.download('shot_gather_denoised.npz')\n",
    "print(\"✓ shot_gather_denoised.npz 다운로드 완료\")\n",
    "\n",
    "print(\"\\n✅ 모든 파일 다운로드 완료!\")"
   ]
  },
  {
   "cell_type": "markdown",
   "metadata": {
    "id": "custom"
   },
   "source": [
    "## ⚙️ 5. 커스텀 파라미터로 재실행 (선택사항)\n",
    "\n",
    "파라미터를 변경하여 다른 결과를 생성할 수 있습니다!"
   ]
  },
  {
   "cell_type": "code",
   "execution_count": null,
   "metadata": {
    "id": "custom_run"
   },
   "outputs": [],
   "source": [
    "# 코드를 직접 임포트하여 실행\n",
    "import sys\n",
    "sys.path.insert(0, '/content/seismic')\n",
    "\n",
    "from shot_gather_workflow import ShotGatherProcessor\n",
    "\n",
    "# 🎯 커스텀 파라미터\n",
    "N_TRACES = 60           # 트레이스 개수\n",
    "OFFSET_MIN = 50         # 최소 오프셋 (m)\n",
    "OFFSET_MAX = 3000       # 최대 오프셋 (m)\n",
    "WAVELET_FREQ = 30.0     # Wavelet 주파수 (Hz)\n",
    "NOISE_LEVEL = 0.15      # 노이즈 레벨 (0-1)\n",
    "N_LAYERS = 7            # 지층 개수\n",
    "\n",
    "print(\"🎯 커스텀 파라미터:\")\n",
    "print(f\"  트레이스 개수: {N_TRACES}\")\n",
    "print(f\"  오프셋 범위: {OFFSET_MIN}-{OFFSET_MAX} m\")\n",
    "print(f\"  Wavelet 주파수: {WAVELET_FREQ} Hz\")\n",
    "print(f\"  노이즈 레벨: {NOISE_LEVEL}\")\n",
    "print(f\"  지층 개수: {N_LAYERS}\")\n",
    "print()\n",
    "\n",
    "# 프로세서 생성\n",
    "processor = ShotGatherProcessor(dt=0.002, nt=1500)\n",
    "\n",
    "# 1. 모델 생성\n",
    "print(\"[1] 랜덤 모델 생성...\")\n",
    "model = processor.create_random_model(nlayers=N_LAYERS)\n",
    "processor.plot_model(model)\n",
    "\n",
    "# 2. Shot Gather 생성\n",
    "print(\"[2] Shot Gather 생성...\")\n",
    "clean, offsets = processor.generate_shot_gather(\n",
    "    model, n_traces=N_TRACES,\n",
    "    offset_min=OFFSET_MIN, offset_max=OFFSET_MAX,\n",
    "    freq=WAVELET_FREQ\n",
    ")\n",
    "processor.plot_shot_gather(clean, offsets, \"Custom Clean Shot Gather\")\n",
    "\n",
    "# 3. 노이즈 추가\n",
    "print(\"[3] 노이즈 추가...\")\n",
    "noisy = processor.add_realistic_noise(clean, noise_level=NOISE_LEVEL)\n",
    "processor.plot_shot_gather(noisy, offsets, \"Custom Noisy Shot Gather\")\n",
    "\n",
    "# 4. 노이즈 제거\n",
    "print(\"[4] 노이즈 제거...\")\n",
    "denoised = processor.denoise_combined(noisy)\n",
    "processor.plot_shot_gather(denoised, offsets, \"Custom Denoised Shot Gather\")\n",
    "\n",
    "# 5. 비교\n",
    "print(\"[5] 전체 비교...\")\n",
    "processor.plot_comparison(clean, noisy, denoised, offsets)\n",
    "\n",
    "# 6. 저장\n",
    "print(\"[6] 저장...\")\n",
    "np.savez('custom_shot_clean.npz', shot_gather=clean, offsets=offsets, time=processor.time, model=model)\n",
    "np.savez('custom_shot_noisy.npz', shot_gather=noisy, offsets=offsets, time=processor.time, model=model)\n",
    "np.savez('custom_shot_denoised.npz', shot_gather=denoised, offsets=offsets, time=processor.time, model=model)\n",
    "\n",
    "print(\"\\n✅ 커스텀 워크플로우 완료!\")"
   ]
  },
  {
   "cell_type": "markdown",
   "metadata": {
    "id": "load_data"
   },
   "source": [
    "## 📊 6. 저장된 데이터 로드 및 분석"
   ]
  },
  {
   "cell_type": "code",
   "execution_count": null,
   "metadata": {
    "id": "load"
   },
   "outputs": [],
   "source": [
    "# 저장된 데이터 로드\n",
    "clean_data = np.load('shot_gather_clean.npz', allow_pickle=True)\n",
    "noisy_data = np.load('shot_gather_noisy.npz', allow_pickle=True)\n",
    "denoised_data = np.load('shot_gather_denoised.npz', allow_pickle=True)\n",
    "\n",
    "# 데이터 추출\n",
    "clean_shot = clean_data['shot_gather']\n",
    "noisy_shot = noisy_data['shot_gather']\n",
    "denoised_shot = denoised_data['shot_gather']\n",
    "offsets = clean_data['offsets']\n",
    "time = clean_data['time']\n",
    "model = clean_data['model'].item()\n",
    "\n",
    "print(\"📊 데이터 정보:\")\n",
    "print(f\"  Shot Gather 크기: {clean_shot.shape}\")\n",
    "print(f\"  트레이스 개수: {clean_shot.shape[1]}\")\n",
    "print(f\"  시간 샘플: {clean_shot.shape[0]}\")\n",
    "print(f\"  샘플링 간격: {(time[1]-time[0])*1000:.1f} ms\")\n",
    "print(f\"  총 시간: {time[-1]:.2f} s\")\n",
    "print(f\"  오프셋 범위: {offsets[0]:.0f} - {offsets[-1]:.0f} m\")\n",
    "print(f\"  지층 개수: {len(model['name'])}\")\n",
    "\n",
    "# 통계\n",
    "print(\"\\n📈 통계:\")\n",
    "print(f\"  Clean RMS: {np.sqrt(np.mean(clean_shot**2)):.6f}\")\n",
    "print(f\"  Noisy RMS: {np.sqrt(np.mean(noisy_shot**2)):.6f}\")\n",
    "print(f\"  Denoised RMS: {np.sqrt(np.mean(denoised_shot**2)):.6f}\")\n",
    "\n",
    "# SNR 계산\n",
    "noise = noisy_shot - clean_shot\n",
    "residual = denoised_shot - clean_shot\n",
    "snr_before = 20 * np.log10(np.std(clean_shot) / np.std(noise))\n",
    "snr_after = 20 * np.log10(np.std(clean_shot) / np.std(residual))\n",
    "\n",
    "print(f\"\\n  SNR (노이즈 추가 후): {snr_before:.2f} dB\")\n",
    "print(f\"  SNR (노이즈 제거 후): {snr_after:.2f} dB\")\n",
    "print(f\"  SNR 개선: {snr_after - snr_before:.2f} dB\")\n",
    "\n",
    "print(\"\\n✅ 데이터 로드 완료!\")"
   ]
  },
  {
   "cell_type": "markdown",
   "metadata": {
    "id": "analysis"
   },
   "source": [
    "## 🔬 7. 추가 분석 - 단일 트레이스 비교"
   ]
  },
  {
   "cell_type": "code",
   "execution_count": null,
   "metadata": {
    "id": "trace_comparison"
   },
   "outputs": [],
   "source": [
    "# 중간 오프셋 트레이스 선택\n",
    "trace_idx = len(offsets) // 2\n",
    "\n",
    "# 플롯\n",
    "fig, axes = plt.subplots(1, 3, figsize=(18, 8))\n",
    "\n",
    "axes[0].plot(clean_shot[:, trace_idx], time, 'b-', linewidth=1.5)\n",
    "axes[0].set_xlabel('Amplitude', fontsize=12, fontweight='bold')\n",
    "axes[0].set_ylabel('Time (s)', fontsize=12, fontweight='bold')\n",
    "axes[0].set_title(f'Clean Trace (Offset={offsets[trace_idx]:.0f}m)', \n",
    "                  fontsize=13, fontweight='bold')\n",
    "axes[0].invert_yaxis()\n",
    "axes[0].grid(True, alpha=0.3)\n",
    "\n",
    "axes[1].plot(noisy_shot[:, trace_idx], time, 'r-', linewidth=1.5)\n",
    "axes[1].set_xlabel('Amplitude', fontsize=12, fontweight='bold')\n",
    "axes[1].set_ylabel('Time (s)', fontsize=12, fontweight='bold')\n",
    "axes[1].set_title(f'Noisy Trace (Offset={offsets[trace_idx]:.0f}m)', \n",
    "                  fontsize=13, fontweight='bold')\n",
    "axes[1].invert_yaxis()\n",
    "axes[1].grid(True, alpha=0.3)\n",
    "\n",
    "axes[2].plot(denoised_shot[:, trace_idx], time, 'g-', linewidth=1.5)\n",
    "axes[2].set_xlabel('Amplitude', fontsize=12, fontweight='bold')\n",
    "axes[2].set_ylabel('Time (s)', fontsize=12, fontweight='bold')\n",
    "axes[2].set_title(f'Denoised Trace (Offset={offsets[trace_idx]:.0f}m)', \n",
    "                  fontsize=13, fontweight='bold')\n",
    "axes[2].invert_yaxis()\n",
    "axes[2].grid(True, alpha=0.3)\n",
    "\n",
    "plt.tight_layout()\n",
    "plt.show()\n",
    "\n",
    "print(f\"✅ 트레이스 {trace_idx} (오프셋 {offsets[trace_idx]:.0f}m) 비교 완료!\")"
   ]
  },
  {
   "cell_type": "markdown",
   "metadata": {
    "id": "spectrum"
   },
   "source": [
    "## 📊 8. 주파수 스펙트럼 분석"
   ]
  },
  {
   "cell_type": "code",
   "execution_count": null,
   "metadata": {
    "id": "freq_analysis"
   },
   "outputs": [],
   "source": [
    "# 중간 트레이스 FFT\n",
    "trace_idx = len(offsets) // 2\n",
    "dt = time[1] - time[0]\n",
    "\n",
    "# FFT 계산\n",
    "freq = np.fft.rfftfreq(len(time), dt)\n",
    "clean_fft = np.abs(np.fft.rfft(clean_shot[:, trace_idx]))\n",
    "noisy_fft = np.abs(np.fft.rfft(noisy_shot[:, trace_idx]))\n",
    "denoised_fft = np.abs(np.fft.rfft(denoised_shot[:, trace_idx]))\n",
    "\n",
    "# 플롯\n",
    "fig, ax = plt.subplots(figsize=(14, 6))\n",
    "\n",
    "ax.plot(freq, clean_fft, 'b-', linewidth=2, label='Clean', alpha=0.8)\n",
    "ax.plot(freq, noisy_fft, 'r-', linewidth=2, label='Noisy', alpha=0.6)\n",
    "ax.plot(freq, denoised_fft, 'g-', linewidth=2, label='Denoised', alpha=0.8)\n",
    "\n",
    "ax.set_xlabel('Frequency (Hz)', fontsize=13, fontweight='bold')\n",
    "ax.set_ylabel('Amplitude Spectrum', fontsize=13, fontweight='bold')\n",
    "ax.set_title(f'Frequency Spectrum Comparison (Offset={offsets[trace_idx]:.0f}m)', \n",
    "             fontsize=14, fontweight='bold')\n",
    "ax.set_xlim([0, 100])\n",
    "ax.legend(fontsize=12)\n",
    "ax.grid(True, alpha=0.3)\n",
    "\n",
    "plt.tight_layout()\n",
    "plt.show()\n",
    "\n",
    "print(\"✅ 주파수 스펙트럼 분석 완료!\")"
   ]
  },
  {
   "cell_type": "markdown",
   "metadata": {
    "id": "reference"
   },
   "source": [
    "## 📚 참고 정보\n",
    "\n",
    "### 📁 생성되는 파일\n",
    "\n",
    "1. **shot_gather_clean.npz** - 원본 Shot Gather\n",
    "2. **shot_gather_noisy.npz** - 노이즈 추가된 Shot Gather\n",
    "3. **shot_gather_denoised.npz** - 노이즈 제거된 Shot Gather\n",
    "\n",
    "### 🔧 노이즈 제거 기법\n",
    "\n",
    "1. **F-K 필터**\n",
    "   - Frequency-Wavenumber 도메인 필터링\n",
    "   - Ground Roll (저속 표면파) 제거\n",
    "   - 속도 기반 필터링\n",
    "\n",
    "2. **밴드패스 필터**\n",
    "   - 8-60 Hz 범위 통과\n",
    "   - 저주파 노이즈 제거\n",
    "   - 고주파 노이즈 제거\n",
    "\n",
    "3. **Median 필터**\n",
    "   - 스파이크 노이즈 제거\n",
    "   - Bad trace 보정\n",
    "   - 비선형 필터링\n",
    "\n",
    "### 🎯 주요 파라미터\n",
    "\n",
    "- **n_traces**: 트레이스 개수 (기본 48)\n",
    "- **offset_min/max**: 오프셋 범위 (m)\n",
    "- **freq**: Wavelet 주파수 (Hz)\n",
    "- **noise_level**: 노이즈 레벨 (0-1)\n",
    "- **nlayers**: 지층 개수\n",
    "\n",
    "### 🔗 GitHub 저장소\n",
    "\n",
    "https://github.com/knocgp/seismic\n",
    "\n",
    "---\n",
    "\n",
    "**Made with ❤️ for Seismic Data Processing**"
   ]
  }
 ],
 "metadata": {
  "colab": {
   "provenance": [],
   "toc_visible": true
  },
  "kernelspec": {
   "display_name": "Python 3",
   "language": "python",
   "name": "python3"
  },
  "language_info": {
   "codemirror_mode": {
    "name": "ipython",
    "version": 3
   },
   "file_extension": ".py",
   "mimetype": "text/x-python",
   "name": "python",
   "nbconvert_exporter": "python",
   "pygments_lexer": "ipython3",
   "version": "3.8.0"
  }
 },
 "nbformat": 4,
 "nbformat_minor": 0
}
