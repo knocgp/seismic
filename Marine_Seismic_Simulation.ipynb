{
 "cells": [
  {
   "cell_type": "markdown",
   "metadata": {
    "id": "header"
   },
   "source": [
    "# 해상 탄성파 탐사 시뮬레이션\n",
    "# Marine Seismic Survey Simulation\n",
    "\n",
    "[![Open In Colab](https://colab.research.google.com/assets/colab-badge.svg)](https://colab.research.google.com/github/knocgp/seismic/blob/main/Marine_Seismic_Simulation.ipynb)\n",
    "\n",
    "---\n",
    "\n",
    "## 개요\n",
    "\n",
    "이 노트북은 해상 탄성파 탐사 시뮬레이션을 수행합니다:\n",
    "\n",
    "- ✅ 합성 지반 모델 생성\n",
    "- ✅ 합성 탄성파 데이터 생성\n",
    "- ✅ 멀티플 시뮬레이션\n",
    "- ✅ 해상 노이즈 추가\n",
    "- ✅ 시각화 및 분석"
   ]
  },
  {
   "cell_type": "markdown",
   "metadata": {
    "id": "install"
   },
   "source": [
    "## 1. 패키지 설치 및 임포트"
   ]
  },
  {
   "cell_type": "code",
   "execution_count": null,
   "metadata": {
    "id": "setup"
   },
   "outputs": [],
   "source": [
    "# 패키지 설치\n",
    "!pip install -q numpy scipy matplotlib\n",
    "\n",
    "# 라이브러리 임포트\n",
    "import numpy as np\n",
    "import matplotlib.pyplot as plt\n",
    "from scipy import signal\n",
    "import warnings\n",
    "warnings.filterwarnings('ignore')\n",
    "\n",
    "print(\"✅ 설정 완료!\")"
   ]
  },
  {
   "cell_type": "markdown",
   "metadata": {
    "id": "download"
   },
   "source": [
    "## 2. GitHub에서 코드 다운로드"
   ]
  },
  {
   "cell_type": "code",
   "execution_count": null,
   "metadata": {
    "id": "clone"
   },
   "outputs": [],
   "source": [
    "# GitHub 저장소 클론\n",
    "!git clone https://github.com/knocgp/seismic.git\n",
    "%cd seismic\n",
    "\n",
    "print(\"\\n✅ 코드 다운로드 완료!\")\n",
    "print(\"\\n📁 파일 목록:\")\n",
    "!ls -lh *.py"
   ]
  },
  {
   "cell_type": "markdown",
   "metadata": {
    "id": "run"
   },
   "source": [
    "## 3. 기본 시뮬레이션 실행"
   ]
  },
  {
   "cell_type": "code",
   "execution_count": null,
   "metadata": {
    "id": "simulation"
   },
   "outputs": [],
   "source": [
    "# 시뮬레이션 실행\n",
    "!python marine_seismic_simulation.py"
   ]
  },
  {
   "cell_type": "markdown",
   "metadata": {
    "id": "custom"
   },
   "source": [
    "## 4. 커스텀 시뮬레이션\n",
    "\n",
    "파라미터를 변경하여 다양한 시뮬레이션을 실행해보세요!"
   ]
  },
  {
   "cell_type": "code",
   "execution_count": null,
   "metadata": {
    "id": "custom_sim"
   },
   "outputs": [],
   "source": [
    "from marine_seismic_simulation import MarineSeismicSimulator\n",
    "\n",
    "# 파라미터 설정 (자유롭게 변경 가능!)\n",
    "WAVELET_FREQ = 40.0\n",
    "MULTIPLE_STRENGTH = 0.7\n",
    "NOISE_LEVEL = 0.10\n",
    "NUM_LAYERS = 5\n",
    "\n",
    "print(f\"파라미터:\")\n",
    "print(f\"  Wavelet 주파수: {WAVELET_FREQ} Hz\")\n",
    "print(f\"  멀티플 강도: {MULTIPLE_STRENGTH}\")\n",
    "print(f\"  노이즈 레벨: {NOISE_LEVEL}\")\n",
    "print(f\"  지층 개수: {NUM_LAYERS}\")\n",
    "\n",
    "# 시뮬레이션\n",
    "sim = MarineSeismicSimulator(dt=0.001, nt=2000)\n",
    "model = sim.create_synthetic_model(nlayers=NUM_LAYERS)\n",
    "clean = sim.generate_synthetic_seismic(model, freq=WAVELET_FREQ)\n",
    "with_mult = sim.add_sea_surface_multiple(clean, model, strength=MULTIPLE_STRENGTH)\n",
    "with_mult = sim.add_internal_multiples(with_mult, model, strength=MULTIPLE_STRENGTH*0.6)\n",
    "noisy = sim.add_marine_noise(with_mult, noise_level=NOISE_LEVEL)\n",
    "\n",
    "# 시각화\n",
    "sim.plot_seismic_comparison({\n",
    "    'Clean': clean,\n",
    "    'Noisy': noisy\n",
    "})\n",
    "\n",
    "print(\"\\n✅ 커스텀 시뮬레이션 완료!\")"
   ]
  },
  {
   "cell_type": "markdown",
   "metadata": {
    "id": "data"
   },
   "source": [
    "## 5. 데이터 로드 및 분석"
   ]
  },
  {
   "cell_type": "code",
   "execution_count": null,
   "metadata": {
    "id": "load_data"
   },
   "outputs": [],
   "source": [
    "# 저장된 데이터 로드\n",
    "data = np.load('marine_seismic_data.npz', allow_pickle=True)\n",
    "\n",
    "time = data['time']\n",
    "clean = data['clean']\n",
    "noisy = data['noisy']\n",
    "model = data['model'].item()\n",
    "\n",
    "print(\"데이터 정보:\")\n",
    "print(f\"  시간 샘플: {len(time)}\")\n",
    "print(f\"  시간 범위: 0 ~ {time[-1]:.2f} s\")\n",
    "print(f\"  지층 수: {len(model['name'])}\")\n",
    "\n",
    "# 플롯\n",
    "plt.figure(figsize=(12, 6))\n",
    "plt.plot(time, clean, label='Clean', alpha=0.7)\n",
    "plt.plot(time, noisy, label='Noisy', alpha=0.7)\n",
    "plt.xlabel('Time (s)')\n",
    "plt.ylabel('Amplitude')\n",
    "plt.legend()\n",
    "plt.title('Seismic Traces Comparison')\n",
    "plt.grid(True, alpha=0.3)\n",
    "plt.show()\n",
    "\n",
    "print(\"\\n✅ 데이터 로드 완료!\")"
   ]
  },
  {
   "cell_type": "markdown",
   "metadata": {
    "id": "download_section"
   },
   "source": [
    "## 6. 결과 다운로드"
   ]
  },
  {
   "cell_type": "code",
   "execution_count": null,
   "metadata": {
    "id": "download_files"
   },
   "outputs": [],
   "source": [
    "from google.colab import files\n",
    "\n",
    "# 생성된 파일 다운로드\n",
    "print(\"다운로드 가능한 파일:\")\n",
    "!ls -lh *.npz *.png 2>/dev/null\n",
    "\n",
    "# 데이터 파일 다운로드\n",
    "files.download('marine_seismic_data.npz')\n",
    "print(\"\\n✅ 다운로드 시작!\")"
   ]
  },
  {
   "cell_type": "markdown",
   "metadata": {
    "id": "info"
   },
   "source": [
    "## 참고 자료\n",
    "\n",
    "### 주요 개념\n",
    "\n",
    "- **음향 임피던스**: Z = ρ × V\n",
    "- **반사 계수**: RC = (Z₂ - Z₁) / (Z₂ + Z₁)\n",
    "- **양방향 주시**: TWT = 2 × d / v\n",
    "\n",
    "### GitHub 저장소\n",
    "\n",
    "https://github.com/knocgp/seismic\n",
    "\n",
    "### 추가 스크립트\n",
    "\n",
    "- `quick_example.py` - 빠른 시작 예제\n",
    "- `demo_custom_simulation.py` - 다양한 비교 데모\n",
    "- `FAQ.md` - 자주 묻는 질문"
   ]
  }
 ],
 "metadata": {
  "colab": {
   "provenance": [],
   "toc_visible": true
  },
  "kernelspec": {
   "display_name": "Python 3",
   "language": "python",
   "name": "python3"
  },
  "language_info": {
   "codemirror_mode": {
    "name": "ipython",
    "version": 3
   },
   "file_extension": ".py",
   "mimetype": "text/x-python",
   "name": "python",
   "nbconvert_exporter": "python",
   "pygments_lexer": "ipython3",
   "version": "3.8.0"
  }
 },
 "nbformat": 4,
 "nbformat_minor": 0
}
